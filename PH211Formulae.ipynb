{
 "cells": [
  {
   "cell_type": "markdown",
   "metadata": {},
   "source": [
    "## Physics Formulae\n",
    "\n",
    "The intention here is to use this notebook to generate nicely rendered math that can be used to generate images for use in webpages or other teaching tools. Probably no coding here just markdown/LaTeX."
   ]
  },
  {
   "cell_type": "markdown",
   "metadata": {},
   "source": [
    "### Work/Energy\n",
    "\n",
    ".$$ \\large \\bar{F}_{net} = m\\: \\bar{a} = m\\: \\frac{d\\bar{v}}{dt}$$\n",
    "\n",
    "Multiplying by $d\\bar{x}$ which requires a specific type of vector multiplication called a 'dot' product and rearranging terms....\n",
    "\n",
    ".$$ \\large \\bar{F}_{net}\\:\\cdot d\\bar{x} = m\\: \\frac{d\\bar{v}}{dt}\\cdot d\\bar{x} = m\\: \\frac{d\\bar{x}}{dt}\\cdot d\\bar{v} = m\\: \\bar{v}\\:\\cdot d\\bar{v}$$\n",
    "\n",
    "We can now integrate both sides.....\n",
    "\n",
    ".$$ \\large \\int_{\\bar{x}_0}^{\\bar{x}_f}\\bar{F}_{net}\\:\\cdot d\\bar{x} =  \\int_{\\bar{v}_0}^{\\bar{v}_f} m\\: \\bar{v}\\:\\cdot d\\bar{v}$$\n",
    "\n",
    "where...\n",
    "\n",
    ".$$ \\large \\bar{v}_0 = \\bar{v}|_{\\bar{x}_0}\\: ;\\: \\bar{v}_f = \\bar{v}|_{\\bar{x}_f}$$\n",
    "\n",
    "Pulling the constant m through the integral and completing the RHS....\n",
    "\n",
    ".$$ \\large \\int_{\\bar{x}_0}^{\\bar{x}_f}\\bar{F}_{net}\\:\\cdot d\\bar{x} = m\\: \\int_{\\bar{v}_0}^{\\bar{v}_f} \\bar{v}\\:\\cdot d\\bar{v} = m\\: \\frac{\\bar{v}^2}{2}|_{\\bar{v}_0}^{\\bar{v}_f}$$\n",
    "\n",
    ".$$ \\large \\int_{\\bar{x}_0}^{\\bar{x}_f}\\bar{F}_{net}\\:\\cdot d\\bar{x} = \\frac{1}{2} m \\bar{v}_f^2 - \\frac{1}{2} m \\bar{v}_0^2$$\n",
    "\n",
    "Noting that in MTH 254 you will find that $\\bar{v}^2 = \\bar{v} \\cdot \\bar{v} = v^2$ we now define Kinetic Energy (KE) as....\n",
    "\n",
    ".$$\\large KE = \\frac{1}{2} m\\: v^2 $$\n",
    "\n",
    "Leading to....\n",
    "\n",
    ".$$ \\large \\int_{\\bar{x}_0}^{\\bar{x}_f}\\bar{F}_{net}\\:\\cdot d\\bar{x} = \\Delta KE$$\n",
    "\n"
   ]
  },
  {
   "cell_type": "markdown",
   "metadata": {},
   "source": [
    "### Dot Product\n",
    "\n",
    ".$$ \\large \\bar{A} \\cdot \\bar{B} = A\\: cos(\\theta)\\: B = \\bar{B} \\cdot \\bar{A}$$"
   ]
  },
  {
   "cell_type": "markdown",
   "metadata": {},
   "source": [
    "### Work\n",
    "\n",
    ".$$ \\large W_F = \\bar{F} \\cdot \\Delta\\bar{x} = F cos(\\theta) \\Delta x = \\int_{\\bar{x}_0}^{\\bar{x}_f}\\bar{F}\\:\\cdot d\\bar{x}$$\n"
   ]
  },
  {
   "cell_type": "markdown",
   "metadata": {},
   "source": [
    "### Taking the pieces apart\n",
    "\n",
    "## Work/Energy Theorem:\n",
    "\n",
    ".$$ \\large \\int_{\\bar{x}_0}^{\\bar{x}_f}\\bar{F}_{net}\\:\\cdot d\\bar{x} = \\Delta KE$$\n",
    "\n",
    "Since the net force can be expressed as $\\bar{F}_{net} = \\bar{F}_1 +\\bar{F}_2 + \\bar{F}_3 + ... + \\bar{F}_N$ we can rewrite this as ...\n",
    "\n",
    ".$$ \\large \\int_{\\bar{x}_0}^{\\bar{x}_f}[\\bar{F}_1 +\\bar{F}_2 + \\bar{F}_3 + ... + \\bar{F}_N]\\:\\cdot d\\bar{x} = \\Delta KE$$\n",
    "\n",
    "Because the dot product is distributive we then have.....\n",
    "\n",
    ".$$ \\large \\int_{\\bar{x}_0}^{\\bar{x}_f}\\bar{F}_1\\:\\cdot d\\bar{x} +\\int_{\\bar{x}_0}^{\\bar{x}_f}\\bar{F}_2\\:\\cdot d\\bar{x} ... +\\int_{\\bar{x}_0}^{\\bar{x}_f} \\bar{F}_N\\:\\cdot d\\bar{x} = \\Delta KE$$\n",
    "\n",
    ".... which can be reexpressed as...\n",
    "\n",
    ".$$ \\large W_{F_1} +W_{F_2} + W_{F_3}... + W_{F_N } = \\sum_i W_{F_i} = \\Delta KE$$"
   ]
  },
  {
   "cell_type": "markdown",
   "metadata": {},
   "source": [
    "### Power\n",
    "\n",
    ".$$\\large P_{ave} = \\frac{W_{F}}{\\Delta t}\\: ,\\: P_{inst} = \\frac{dW_F}{dt}$$"
   ]
  },
  {
   "cell_type": "markdown",
   "metadata": {},
   "source": [
    ".$$ \\large W_{F_1} +W_{F_2} + W_{F_3}... + W_{F_N } = \\sum_i W_{F_i} = \\Delta KE = KE_f - KE_0$$"
   ]
  },
  {
   "cell_type": "markdown",
   "metadata": {},
   "source": [
    "Rearranging\n",
    ".$$ \\large KE_0 + [W_{F_1} +W_{F_2} + W_{F_3}... + W_{F_N }] = KE_f$$"
   ]
  },
  {
   "cell_type": "markdown",
   "metadata": {},
   "source": [
    ".$$ \\large W_{F_g} +W_{F_2} + W_{F_3}... + W_{F_N } = \\Delta KE $$\n",
    "\n",
    ".$$ \\large -\\Delta PE_{F_g} +W_{F_2} + W_{F_3}... + W_{F_N } = \\Delta KE $$\n",
    "\n",
    ".$$ \\large W_{F_2} + W_{F_3}... + W_{F_N } = \\Delta KE + \\Delta PE_{F_g}$$"
   ]
  },
  {
   "cell_type": "markdown",
   "metadata": {},
   "source": [
    ".$$ \\large KE_0 + PE_{0_g} + [W_{F_2} + W_{F_3}... + W_{F_N }] = KE_f + PE_{f_g} $$"
   ]
  },
  {
   "cell_type": "markdown",
   "metadata": {},
   "source": [
    ".$$ \\large KE = \\frac{1}{2} m v^2\\: ;\\:  PE_g = m g h\\:;\\: W_F = \\bar{F} \\cdot \\Delta\\bar{x} = F cos(\\theta) \\Delta x = \\int_{\\bar{x}_0}^{\\bar{x}_f}\\bar{F}\\:\\cdot d\\bar{x}$$"
   ]
  },
  {
   "cell_type": "markdown",
   "metadata": {},
   "source": [
    "### Range Equation\n",
    "\n",
    ".$$ \\large R = \\frac{v_0^2}{g} sin(2\\theta)$$\n"
   ]
  },
  {
   "cell_type": "markdown",
   "metadata": {},
   "source": [
    "### Impulse\n",
    "\n",
    ".$$ \\large \\int_{t_0}^{t_f}\\bar{F}_{net} dt = area = \\int_{t_0}^{t_f}m\\:\\bar{a}\\:dt = \\int_{t_0}^{t_f}m\\:\\frac{d\\bar{v}}{dt}dt$$"
   ]
  },
  {
   "cell_type": "markdown",
   "metadata": {},
   "source": [
    ".$$ \\large \\int_{t_0}^{t_f}m\\:\\frac{d\\bar{v}}{dt}dt = m\\int_{t_0}^{t_f}d\\bar{v} = m\\:(v_f - v_0) = \\Delta (m\\:\\bar{v})$$"
   ]
  },
  {
   "cell_type": "markdown",
   "metadata": {},
   "source": [
    ".$$ \\large \\int_{t_0}^{t_f}\\bar{F}_{net} dt = \\Delta (m\\:\\bar{v})$$"
   ]
  },
  {
   "cell_type": "markdown",
   "metadata": {},
   "source": [
    ".$$ \\large \\int_{t_0}^{t_f}\\bar{F}\\: dt =  \\bar{J}\\:(= impulse) = \\Delta (m\\:\\bar{v})$$"
   ]
  },
  {
   "cell_type": "markdown",
   "metadata": {},
   "source": [
    ".$$ \\large \\int_{t_0}^{t_f}\\bar{F}\\: dt =  \\bar{F}_{ave} \\Delta t$$"
   ]
  },
  {
   "cell_type": "markdown",
   "metadata": {},
   "source": [
    ".$$ \\large \\bar{J} = \\int_{t_0}^{t_f}\\bar{F}\\: dt =  \\bar{F}_{ave} \\Delta t = \\Delta (m\\:\\bar{v})$$"
   ]
  },
  {
   "cell_type": "markdown",
   "metadata": {},
   "source": [
    "### Momentum\n",
    "\n",
    ".$$ \\large \\bar{F}_{net} = m\\:\\bar{a} = m\\:\\frac{d\\bar{v}}{dt} = \\frac{d(m\\:\\bar{v})}{dt}$$"
   ]
  },
  {
   "cell_type": "markdown",
   "metadata": {},
   "source": [
    ".$$ \\large \\bar{F}_{net_{system}} = \\frac{d(m\\:\\bar{v})_{system}}{dt}$$"
   ]
  },
  {
   "cell_type": "markdown",
   "metadata": {},
   "source": [
    ".$$ \\large \\bar{F}_{net_{system}} = 0 = \\frac{d(m\\:\\bar{v})_{system}}{dt}\\implies d(m\\:\\bar{v})_{system}= 0 $$"
   ]
  },
  {
   "cell_type": "markdown",
   "metadata": {},
   "source": [
    ".$$ \\large \\implies (m\\:\\bar{v})_{0_{system}}= (m\\:\\bar{v})_{f_{system}} $$"
   ]
  },
  {
   "cell_type": "markdown",
   "metadata": {},
   "source": [
    ".$$ \\large \\bar{p}= m\\:\\bar{v} $$"
   ]
  },
  {
   "cell_type": "markdown",
   "metadata": {},
   "source": [
    ".$$ \\large  \\bar{p}_{0_{system}} = (m\\:\\bar{v})_{0_{system}}= \\sum_i \\bar{p}_{0_i} = \\bar{p}_{0_1}+\\bar{p}_{0_2}+...\\bar{p}_{0_N}$$"
   ]
  },
  {
   "cell_type": "markdown",
   "metadata": {},
   "source": [
    ".$$ \\large  \\bar{p}_{f_{system}} = (m\\:\\bar{v})_{f_{system}}= \\sum_i \\bar{p}_{f_i} = \\bar{p}_{f_1}+\\bar{p}_{f_2}+...\\bar{p}_{f_N}$$"
   ]
  },
  {
   "cell_type": "markdown",
   "metadata": {},
   "source": [
    ".$$ \\large  \\bar{p}_{0_1}+\\bar{p}_{0_2}+...\\bar{p}_{0_N} = \\bar{p}_{f_1}+\\bar{p}_{f_2}+...\\bar{p}_{f_N}$$"
   ]
  },
  {
   "cell_type": "markdown",
   "metadata": {},
   "source": [
    "### Angular Variables\n",
    "\n",
    ".$$\\large \\bar{x}(t) \\implies \\bar{\\theta}(t)$$\n",
    "\n",
    ".$$\\large \\frac{d\\bar{x}(t)}{dt} = \\bar{v}(t) \\implies \\bar{\\omega}(t) = \\frac{d\\bar{\\theta}(t)}{dt}$$\n",
    "\n",
    ".$$\\large \\frac{d\\bar{v}(t)}{dt} = \\bar{a}(t) \\implies \\bar{\\alpha}(t) = \\frac{d\\bar{\\omega}(t)}{dt}$$\n",
    "\n"
   ]
  },
  {
   "cell_type": "markdown",
   "metadata": {},
   "source": [
    ".$$\\large \\bar{x}(t) \\implies \\bar{\\theta}(t)$$\n",
    "\n",
    ".$$\\large \\bar{v}(t) \\implies \\bar{\\omega}(t)$$\n",
    "\n",
    ".$$\\large \\bar{a}(t) \\implies \\bar{\\alpha}(t)$$\n"
   ]
  },
  {
   "cell_type": "markdown",
   "metadata": {},
   "source": [
    "|   linear variables     |    |  angular variables    | \n",
    "| :------------- | :----------: | :----------: |\n",
    "| **v = constant** |  | **$\\omega =$ constant**   | \n",
    "| $$\\large \\bar{x}(t) = \\bar{x}_0 + \\bar{v}\\Delta t$$ |  | $$\\large \\bar{\\theta}(t) = \\bar{\\theta}_0 + \\bar{\\omega}\\Delta t$$  |\n",
    "|  |  |  |\n",
    "| **a = constant** |  | **$\\alpha =$ constant**   | \n",
    "| $$\\large \\bar{v}(t) = \\bar{v}_0 + \\bar{a}\\Delta t$$ |  | $$\\large \\bar{\\omega}(t) = \\bar{\\omega}_0 + \\bar{\\alpha}\\Delta t$$  |\n",
    "| $$\\large \\bar{x}(t) = \\bar{x}_0 + \\bar{v}_0\\Delta t + \\frac{1}{2}\\bar{a} \\Delta t^2$$ |  | $$\\large \\bar{\\theta}(t) = \\bar{\\theta}_0 + \\bar{\\omega}_0\\Delta t + \\frac{1}{2}\\bar{\\alpha} \\Delta t^2$$  |\n",
    "| combining 2 above |  | combining 2 above  |\n",
    "| $$\\large \\bar{v}^2(t) = \\bar{v}^2_0 + 2\\bar{a} (\\bar{x}_f - \\bar{x}_0)$$ |  | $$\\large \\bar{\\omega}^2(t) = \\bar{\\omega}^2_0 + 2\\bar{\\alpha} (\\bar{\\theta}_f - \\bar{\\theta}_0)$$  |"
   ]
  },
  {
   "cell_type": "markdown",
   "metadata": {},
   "source": [
    ".$$\\large \\omega = \\frac{\\Delta \\theta}{\\Delta t} =  \\frac{\\Delta S}{r \\Delta t} = \\frac{v_{tan}}{r} $$\n",
    "\n",
    ".$$\\large \\omega = \\frac{2\\pi\\:r}{T} =  2\\pi\\: r \\: f $$"
   ]
  },
  {
   "cell_type": "markdown",
   "metadata": {},
   "source": [
    ".$$\\large s_{tan}  = r_i\\theta$$\n",
    "\n",
    ".$$\\large v_{tan} = r_i\\omega$$\n",
    "\n",
    ".$$\\large a_{tan} = r_i\\alpha$$"
   ]
  },
  {
   "cell_type": "markdown",
   "metadata": {},
   "source": [
    "### Torque\n",
    "\n",
    ".$$ \\large \\tau = r\\:R_{\\perp} = r\\: sin(\\theta) F$$"
   ]
  },
  {
   "cell_type": "markdown",
   "metadata": {},
   "source": [
    ".$$ \\large \\bar{\\tau} = \\bar{r}\\: \\times \\: \\bar{F}\\: ;\\: |\\bar{\\tau}|= r\\: sin(\\theta) F$$"
   ]
  },
  {
   "cell_type": "markdown",
   "metadata": {},
   "source": [
    ".$$ \\large \\bar{F}_{net} = m\\:\\bar{a} = m\\:\\bar{a}_{tangential}$$"
   ]
  },
  {
   "cell_type": "markdown",
   "metadata": {},
   "source": [
    ".$$ \\large \\bar{r} \\times \\bar{F}_{net}  = \\bar{r} \\times (m\\: \\bar{a}_{tan}) = m(\\bar{r} \\times \\bar{a}_{tan})$$"
   ]
  },
  {
   "cell_type": "markdown",
   "metadata": {},
   "source": [
    ".$$ \\large \\bar{\\tau}_{net}  = m\\: r^2 \\bar{\\alpha}$$"
   ]
  },
  {
   "cell_type": "markdown",
   "metadata": {},
   "source": [
    ".$$ \\large \\bar{\\tau}_{net}  = I_{point} \\bar{\\alpha}\\: ; \\: I_{point} = m\\: r^2$$"
   ]
  },
  {
   "cell_type": "markdown",
   "metadata": {},
   "source": [
    ".$$ \\Large \\bar{\\tau}_{net}  = I_{object} \\bar{\\alpha}$$"
   ]
  },
  {
   "cell_type": "code",
   "execution_count": null,
   "metadata": {},
   "outputs": [],
   "source": []
  }
 ],
 "metadata": {
  "kernelspec": {
   "display_name": "Python 3",
   "language": "python",
   "name": "python3"
  },
  "language_info": {
   "codemirror_mode": {
    "name": "ipython",
    "version": 3
   },
   "file_extension": ".py",
   "mimetype": "text/x-python",
   "name": "python",
   "nbconvert_exporter": "python",
   "pygments_lexer": "ipython3",
   "version": "3.8.5"
  }
 },
 "nbformat": 4,
 "nbformat_minor": 4
}
