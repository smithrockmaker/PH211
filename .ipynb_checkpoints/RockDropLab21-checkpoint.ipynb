{
 "cells": [
  {
   "cell_type": "markdown",
   "metadata": {},
   "source": [
    "# \"Rock\" Drop Lab\n",
    "## PH 211 COCC\n",
    "### Bruce Emerson 2/10/2021\n",
    "\n",
    "This notebook is meant to provide tools and discussion to support data analysis and presentation as you generate your lab reports. \n",
    "\n",
    "[Rock Drop Lab](http://coccweb.cocc.edu/bemerson/PhysicsGlobal/Courses/PH211/PH211Materials/PH211Labs/PH211Labrockdrop.html) and [Rock Drop Lab Discussion](http://coccweb.cocc.edu/bemerson/PhysicsGlobal/Courses/PH211/PH211Materials/PH211Labs/PH211LabDrockdrop.html)\n",
    "\n",
    "In this lab we are gathering some data, entering the data into the notebook, plotting the data as a scatterplot, plotting a physics model of the \"rock\", and finally using the model to predict the height of an unknown object.\n",
    "\n",
    "Including images in your python notebooks seems valuable but there are a range of challenges. One of which is the literalness of python. I had this image file with .jpg as the suffix and it didn't recognize the image which had a .JPG suffic. Usually such image files are not case sensitive but here they are. If I reference a web location for the image which is on my github then the image can be found when the file is exported to html for later conversion to pdf. \n",
    "\n",
    "`<img src=\"https://raw.githubusercontent.com/smithrockmaker/PH211/master/images/COVIDRock.JPG\" />`\n",
    "\n",
    "<img src=\"https://raw.githubusercontent.com/smithrockmaker/PH211/master/images/COVIDRock.JPG\" />\n",
    "\n",
    "Here is the same image included from a local image folder on my computer. This works when I am working in Jupyterlab but 'breaks' when I export the file to html. Still working on a student facing solution.\n",
    "\n",
    "<img src=\"images/COVIDRock.JPG\" />\n"
   ]
  },
  {
   "cell_type": "markdown",
   "metadata": {},
   "source": [
    "## Dependencies\n",
    "\n",
    "This is where we load in the various libraries of python tools that are needed for the particular work we are undertaking.  \n",
    " \n",
    "The new library from ```numpy``` is needed for creating a polynomial fit to the data later on. There are multiple version of these modules for different purposes. This one feels best matched to our needs and experience.\n",
    "\n",
    "[numpy.polynomial.polynomial module](https://docs.scipy.org/doc/numpy/reference/routines.polynomials.polynomial.html)\n",
    "\n",
    "The following code cell will need to be run first before any other code cells."
   ]
  },
  {
   "cell_type": "code",
   "execution_count": 1,
   "metadata": {},
   "outputs": [],
   "source": [
    "import numpy as np\n",
    "import matplotlib as mplot\n",
    "import matplotlib.pyplot as plt\n",
    "from numpy.polynomial import polynomial as ply"
   ]
  },
  {
   "cell_type": "markdown",
   "metadata": {},
   "source": [
    "## Data Entry (Lists/Vectors) (Deliverable I)\n",
    "\n",
    "At this point you should be getting comfortable doing data entry. You should explain what the data is and how you gathered it in this markdown cell. You should also indicate the variability of your data (x and y). You are asked to figure out a way to present your data here in the markdown cell and **not** just as a list in the code below."
   ]
  },
  {
   "cell_type": "code",
   "execution_count": 2,
   "metadata": {},
   "outputs": [
    {
     "name": "stdout",
     "output_type": "stream",
     "text": [
      "flight time: [0.0, 0.45, 0.72, 0.95, 1.21, 1.33]\n",
      "height: [0.0, 1.0, 2.0, 3.0, 4.0, 5.0]\n",
      "number of data points (x): 6\n",
      "number of data points (y): 6\n"
     ]
    }
   ],
   "source": [
    "timedata = [0., .45, .72, .95, 1.21, 1.33]\n",
    "heightdata = [0., 1., 2., 3., 4., 5.]\n",
    "\n",
    "# 2 ways to print out and check your data\n",
    "\n",
    "print(\"flight time:\",timedata)\n",
    "print(\"height:\",heightdata)\n",
    "\n",
    "timedatalength = len(timedata)\n",
    "heightdatalength = len(heightdata)\n",
    "# length counts how many 'data points' in the list\n",
    "print(\"number of data points (x):\", timedatalength)\n",
    "print(\"number of data points (y):\", heightdatalength)"
   ]
  },
  {
   "cell_type": "markdown",
   "metadata": {},
   "source": [
    "***\n",
    "## Lab Deliverable:\n",
    "\n",
    "Describe your data collection method in some detail so it could be reproduced by other researchers. Explain whether <0,0> is a real data point for this experiment and where you focused your attention as you gathered the data. Present your raw data completely and clearly in a markdown cell.\n",
    "\n",
    "Include a separate discussion of the variability of your data which is the standard deviation divided by the mean for each data point. Include the data that supports your statement. You **DO NOT** need to do this calculation for every data point but you must do so for at least one to get a sense of things. Given that you may be working alone I would expect a reasonable amount of variability.\n",
    "\n",
    "***"
   ]
  },
  {
   "cell_type": "markdown",
   "metadata": {},
   "source": [
    "### Data Plot\n",
    "\n",
    "If you are unsure what is happening here refer to earlier labs where it has been described in more detail. \n",
    "\n"
   ]
  },
  {
   "cell_type": "code",
   "execution_count": 9,
   "metadata": {},
   "outputs": [
    {
     "data": {
      "image/png": "[encoded data removed]",
      "text/plain": [
       "<Figure size 720x648 with 1 Axes>"
      ]
     },
     "metadata": {
      "needs_background": "light"
     },
     "output_type": "display_data"
    }
   ],
   "source": [
    "\n",
    "fig1, ax1 = plt.subplots()\n",
    "ax1.scatter(timedata, heightdata)\n",
    "\n",
    "# a more explicit way to set labels\n",
    "plt.xlabel('drop time (s)', fontsize = 10)\n",
    "plt.ylabel('drop height (m)', fontsize = 10)\n",
    "plt.title('Calibration Data for Rock', fontsize = 20)\n",
    "\n",
    "fig1.set_size_inches(10, 9)\n",
    "ax1.grid()\n",
    "\n",
    "#fig1.savefig(\"myplot.png\")\n",
    "plt.show()"
   ]
  },
  {
   "cell_type": "markdown",
   "metadata": {},
   "source": [
    "***\n",
    "## Lab Deliverable (II):\n",
    "\n",
    "A plot of your raw data with your analysis of that data. Any data points seem out of place? Doesn't appear linear? If it curves does the shape match your conceptual understanding of the setting? Imagine you are presenting this data to your engineering group and you need them to understand why it seems reasonable or not.\n",
    "\n",
    "***"
   ]
  },
  {
   "cell_type": "markdown",
   "metadata": {},
   "source": [
    "### Curve Fitting\n",
    "\n",
    "The new feature for this lab is fitting a polynomial curve to the data and trying to make sense of it.\n",
    "\n",
    "```degree``` is the order of the polynomial as in degree = 2 => quadratic polynomial with 3 coefficients.\n",
    "\n",
    "[polynomial.polynomial.polyfit](https://docs.scipy.org/doc/numpy/reference/generated/numpy.polynomial.polynomial.polyfit.html)\n",
    "\n",
    "Read the documentation and see if you can figure out what is happening in this code block."
   ]
  },
  {
   "cell_type": "code",
   "execution_count": 4,
   "metadata": {},
   "outputs": [
    {
     "name": "stdout",
     "output_type": "stream",
     "text": [
      "Coefficients of polynomial fit: [-0.0111631   1.87386972  1.00256291  0.26917256]\n"
     ]
    }
   ],
   "source": [
    "degree = 3\n",
    "coefs = ply.polyfit(timedata, heightdata,degree)\n",
    "print(\"Coefficients of polynomial fit:\", coefs)"
   ]
  },
  {
   "cell_type": "markdown",
   "metadata": {},
   "source": [
    "### Add the physics model...the curve fit and the ideal rock\n",
    "\n",
    "The model we will create here is not a linear model but it starts the same way by generating a set of 'x' values from which to generate the 'y' values give the curve fit generated above.\n",
    "\n",
    "It starts by defining a set of x values.```numpy.linspace()``` is a tool for doing this and because we did ```import numpy as np``` it shows in the code as ```np.linspace()```. Look back to previous labs if you need to refresh.\n",
    "\n",
    "[numpy.linspace documentation](https://docs.scipy.org/doc/numpy/reference/generated/numpy.linspace.html) \n",
    "\n",
    "Because it's interesting to see and not hard to do when you have access to a notebook I've included the model of an ideal rock. You can worry if you want about whether gravity in Bend is different than sea level (it is a little) but the relationship of your data, the curve fit, and the ideal rock should make sense.\n"
   ]
  },
  {
   "cell_type": "code",
   "execution_count": 5,
   "metadata": {},
   "outputs": [],
   "source": [
    "# generate x values for model of data\n",
    "maxtime = 2.2\n",
    "numpoints = 20\n",
    "modeltime = np.linspace(0.,maxtime,numpoints)\n",
    "\n",
    "# create a model height list that matches the model time\n",
    "modelheight = np.full_like(modeltime,0)\n",
    "idealrock = np.full_like(modeltime,0)\n",
    "\n",
    "# calculate the heights predicted from the model\n",
    "modelheight = coefs[0] + coefs[1]*modeltime + \\\n",
    "        coefs[2]* modeltime**2 + coefs[3]*modeltime**3\n",
    "\n",
    "# calculate an ideal physics rock (no air drag and a = 9.81 m/s/s)\n",
    "idealrock = 0.5*9.81*modeltime**2\n",
    "\n",
    "# print(\"testing the output of the loop;\", modelheight)"
   ]
  },
  {
   "cell_type": "markdown",
   "metadata": {},
   "source": [
    "***\n",
    "## Lab Deliverable (II):\n",
    "\n",
    "The cell below illustrates how to generate the plot of your data, the behavior of an ideal physics rock, the polynomial fit to your data, and the drop time for your unknown height. Describe the important features of this plot and use markdown to show the polynomial fit with the coefficients. \n",
    "\n",
    "Compare each coefficient with those in the standard kinematic expression for the position of an object experiencing constant acceleration.\n",
    "\n",
    ".$$\\large x_f = x_0 + v_{x_0} t + \\frac{1}{2} a_x t^2$$\n",
    "\n",
    ".$$ x(t) = 0.013 + 2.3 t - 4.0 t^2$$\n",
    "\n",
    "The coefficients of your polynomial fit have the same meaning as the terms above. \n",
    "\n",
    "***"
   ]
  },
  {
   "cell_type": "code",
   "execution_count": 6,
   "metadata": {},
   "outputs": [
    {
     "data": {
      "image/png": "[encoded data removed]",
      "text/plain": [
       "<Figure size 720x648 with 1 Axes>"
      ]
     },
     "metadata": {
      "needs_background": "light"
     },
     "output_type": "display_data"
    }
   ],
   "source": [
    "fig2, ax2 = plt.subplots()\n",
    "\n",
    "# This is the plot of the actual data\n",
    "ax2.scatter(timedata, heightdata,\n",
    "            marker = 'x', color = 'green',\n",
    "            label = \"data\")\n",
    "\n",
    "# This is the plot of your polynomial curve fit\n",
    "ax2.plot(modeltime, modelheight,\n",
    "         color = 'red', linestyle = ':',\n",
    "         linewidth = 3., label = \"model\")\n",
    "\n",
    "# This is the plot of an ideal physics rock\n",
    "ax2.plot(modeltime, idealrock,\n",
    "         color = 'blue', linestyle = '-',\n",
    "         linewidth = 1., label = \"ideal rock\")\n",
    "\n",
    "# This is the drop time you measured for your unknown height\n",
    "# followed by a plot of a vertical line 'vlines' at that point\n",
    "# You MAY need to change the 12 to a different number. See what \n",
    "# happens when you do.\n",
    "unknown_data = 1.87\n",
    "ax2.vlines(unknown_data, 0, 12,\n",
    "         color = 'magenta', linestyle = '-',\n",
    "         linewidth = 2., label = \"unknown drop\")\n",
    "\n",
    "\n",
    "# a more explicit way to set labels\n",
    "plt.xlabel('drop time (s)', fontsize = 10)\n",
    "plt.ylabel('drop height (m)', fontsize = 10)\n",
    "plt.title('Experimental Data with Model', fontsize = 20)\n",
    "\n",
    "fig2.set_size_inches(10, 9)\n",
    "ax2.grid()\n",
    "\n",
    "plt.legend(loc= 2)\n",
    "plt.show()"
   ]
  },
  {
   "cell_type": "markdown",
   "metadata": {},
   "source": [
    "***\n",
    "### Terminal Velocity? (Deliverable III)\n",
    "\n",
    "Does this data and the model suggest that your 'rock' has reached terminal velocity during this experiment? Why or why not? What would that terminal velocity be? \n",
    "***"
   ]
  },
  {
   "cell_type": "markdown",
   "metadata": {},
   "source": [
    "***\n",
    "### Lab Deliverable (IV): Challenge Drop\n",
    "\n",
    "Begin by documenting what you measured for your 'challenge drop'. Where is it located and what were the conditions under which you made the measurement? Hopefully you were able to make multiple measurements to benefit from the effects of averaging.\n",
    "\n",
    "Present your measured drop time for the unknown height. From this data point and your model above predict the height of the unknown object and a numerical value for your uncertainty based on your data. I drew a line on the previous plot indicating the drop time for the unknown which you can of course edit. The intersection point on the plot should be consistent with the predicted height found below by plugging your drop time for the unknown height into the polynomial fit.\n",
    "***"
   ]
  },
  {
   "cell_type": "code",
   "execution_count": 7,
   "metadata": {},
   "outputs": [
    {
     "name": "stdout",
     "output_type": "stream",
     "text": [
      "The predicted height of unknown drop is (m): 8.759009512755595\n"
     ]
    }
   ],
   "source": [
    "predicted_height = coefs[0] + coefs[1]*unknown_data + \\\n",
    "        coefs[2]* unknown_data**2 + coefs[3]*unknown_data**3\n",
    "\n",
    "print(\"The predicted height of unknown drop is (m):\", predicted_height)"
   ]
  },
  {
   "cell_type": "markdown",
   "metadata": {},
   "source": [
    "***\n",
    "### Discussion: Deliverable IV\n",
    "\n",
    "Is there a way to check this result for reasonableness? Does it make sense from an examination of the environment? I'm interested in how you do a 'gut check' of your answer rather than just take what the code spits out. Do you feel any better looking at the plot rather than the output of the calculation?\n",
    "***"
   ]
  },
  {
   "cell_type": "markdown",
   "metadata": {},
   "source": [
    "## Reflection\n",
    "\n",
    "As usual I learned a bunch of new stuff in the process of creating this notebook as a framework for your lab report. \n",
    "\n",
    "The issue of embedding images in the notebook in such a way that they show in the pdf continues to be an aggravation. I will keep working on this.\n",
    "\n",
    "Thanks."
   ]
  },
  {
   "cell_type": "markdown",
   "metadata": {},
   "source": [
    "### Extensions\n",
    "\n",
    "Extensions are ideas that I didn't have time to explore or develop fully for this lab. These are offered as opportunities for students with more programming experience than is typical for students in the class.\n",
    "\n",
    "\n",
    "#### Second Plot that is zoomed in to the point of intersection\n",
    "\n",
    "I could just create another plot with the same functions but different axis limits but I wonder if there is a more clever way to do this.\n"
   ]
  },
  {
   "cell_type": "code",
   "execution_count": null,
   "metadata": {},
   "outputs": [],
   "source": []
  }
 ],
 "metadata": {
  "kernelspec": {
   "display_name": "Python 3",
   "language": "python",
   "name": "python3"
  },
  "language_info": {
   "codemirror_mode": {
    "name": "ipython",
    "version": 3
   },
   "file_extension": ".py",
   "mimetype": "text/x-python",
   "name": "python",
   "nbconvert_exporter": "python",
   "pygments_lexer": "ipython3",
   "version": "3.8.5"
  }
 },
 "nbformat": 4,
 "nbformat_minor": 4
}
